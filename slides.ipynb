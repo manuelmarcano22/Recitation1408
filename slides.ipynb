{
 "cells": [
  {
   "cell_type": "markdown",
   "metadata": {
    "collapsed": true,
    "slideshow": {
     "slide_type": "slide"
    }
   },
   "source": [
    "# Physics 1408 Recitation\n"
   ]
  },
  {
   "cell_type": "markdown",
   "metadata": {
    "slideshow": {
     "slide_type": "fragment"
    }
   },
   "source": [
    "## Manuel Pichardo Marcano"
   ]
  },
  {
   "cell_type": "markdown",
   "metadata": {
    "collapsed": true,
    "slideshow": {
     "slide_type": "skip"
    }
   },
   "source": [
    "class PDF(object):\n",
    "  def __init__(self, pdf, size=(200,200)):\n",
    "    self.pdf = pdf\n",
    "    self.size = size\n",
    "\n",
    "  def _repr_html_(self):\n",
    "    return '<iframe src={0} width={1[0]} height={1[1]}></iframe>'.format(self.pdf, self.size)\n",
    "\n",
    "  def _repr_latex_(self):\n",
    "    return r'\\includegraphics[width=1.0\\textwidth]{{{0}}}'.format(self.pdf)"
   ]
  },
  {
   "cell_type": "code",
   "execution_count": 8,
   "metadata": {
    "collapsed": false,
    "slideshow": {
     "slide_type": "slide"
    }
   },
   "outputs": [
    {
     "data": {
      "text/html": [
       "<iframe src=Rec.pdf width=800 height=800></iframe>"
      ],
      "text/latex": [
       "\\includegraphics[width=1.0\\textwidth]{Rec.pdf}"
      ],
      "text/plain": [
       "<__main__.PDF at 0x7f8ea0236160>"
      ]
     },
     "execution_count": 8,
     "metadata": {},
     "output_type": "execute_result"
    }
   ],
   "source": [
    "PDF('Rec.pdf',size=(800,800))\n"
   ]
  },
  {
   "cell_type": "markdown",
   "metadata": {
    "slideshow": {
     "slide_type": "slide"
    }
   },
   "source": [
    "# Derivatives\n",
    "\n",
    "## Notation\n",
    "\n",
    " $$f'(t) = \\dot f(t) =  \\frac{df(t)}{dt} \\neq \\frac{\\partial f(t)}{\\partial t} $$\n",
    " \n",
    " $$\\left . \\frac{df(t)}{dt} \\right |_{t=1} $$"
   ]
  },
  {
   "cell_type": "markdown",
   "metadata": {
    "slideshow": {
     "slide_type": "fragment"
    }
   },
   "source": [
    "$$f''(t) = \\ddot f(t) = \\frac{d^2f(t)}{dt^2} = \\frac{d}{dt}\\left (\\frac{df(x)}{dt} \\right)$$\n",
    " \n"
   ]
  },
  {
   "cell_type": "markdown",
   "metadata": {
    "slideshow": {
     "slide_type": "subslide"
    }
   },
   "source": [
    "## Example and names"
   ]
  },
  {
   "cell_type": "markdown",
   "metadata": {
    "slideshow": {
     "slide_type": "fragment"
    }
   },
   "source": [
    "### Rate of change/ slope of a curve/ change in \n",
    "- velocity\n",
    "- acceleration\n",
    "- jerk \n",
    "- Foce"
   ]
  },
  {
   "cell_type": "markdown",
   "metadata": {
    "slideshow": {
     "slide_type": "subslide"
    }
   },
   "source": [
    "# Examples\n",
    "\n",
    "- Derivative of a constant\n",
    "- Derivative of a product\n",
    "- Derivative of a quotient\n",
    "- Derivative of trig functions\n",
    "- Derivatives Exponential\n",
    "- Derivatives composition of a function"
   ]
  },
  {
   "cell_type": "markdown",
   "metadata": {
    "slideshow": {
     "slide_type": "subslide"
    }
   },
   "source": [
    "- Constant: $a$\n",
    "- Sum: $(f + g)' = f' + g'$\n",
    "- Product: $\\frac{d}{dx} (u\\cdot v) = v \\cdot \\frac{du}{dx} + u \\cdot  \\frac{dv}{dx} \\,\\!  $\n",
    "- Quatient:\n",
    "- Trigonometric functions:\n",
    "- Logaritm:\n",
    "- Exponent:\n",
    "- Composition:\n"
   ]
  },
  {
   "cell_type": "markdown",
   "metadata": {
    "slideshow": {
     "slide_type": "subslide"
    }
   },
   "source": [
    "# Your turn\n",
    "\n",
    "- Constant: $5$\n",
    "- Sum: $(sin + g)' = f' + g'$\n",
    "- Product: $\\frac{d}{dx} (u\\cdot v) = v \\cdot \\frac{du}{dx} + u \\cdot  \\frac{dv}{dx} \\,\\!  $\n",
    "- Quatient:\n",
    "- Trigonometric functions:\n",
    "- Logaritm:\n",
    "- Exponent:\n",
    "- Composition:"
   ]
  },
  {
   "cell_type": "markdown",
   "metadata": {
    "slideshow": {
     "slide_type": "subslide"
    }
   },
   "source": [
    "- Constant: $a$\n",
    "- Sum: $(f + g)' = f' + g'$\n",
    "- Product: $\\frac{d}{dx} (u\\cdot v) = v \\cdot \\frac{du}{dx} + u \\cdot  \\frac{dv}{dx} \\,\\!  $\n",
    "- Quatient:\n",
    "- Trigonometric functions:\n",
    "- Logaritm:\n",
    "- Exponent:\n",
    "- Composition:"
   ]
  },
  {
   "cell_type": "markdown",
   "metadata": {
    "slideshow": {
     "slide_type": "slide"
    }
   },
   "source": [
    "# Integration\n",
    "\n",
    "## Notation\n",
    "\n",
    "$$\\int $$\n",
    "$$ \\int_a^b x^2\\;\\mathrm{d}x= \\tfrac{1}{3} x^3 \\Big|_a^b $$"
   ]
  },
  {
   "cell_type": "markdown",
   "metadata": {
    "slideshow": {
     "slide_type": "slide"
    }
   },
   "source": [
    "# Useful Tools:\n",
    "\n",
    " -  Sympy or any other CAS"
   ]
  },
  {
   "cell_type": "code",
   "execution_count": 24,
   "metadata": {
    "collapsed": false,
    "slideshow": {
     "slide_type": "subslide"
    }
   },
   "outputs": [
    {
     "data": {
      "image/png": "[encoded data removed]",
      "text/plain": [
       "<matplotlib.figure.Figure at 0x7f1c2703a320>"
      ]
     },
     "metadata": {},
     "output_type": "display_data"
    }
   ],
   "source": [
    "from sympy import sin, series, Symbol\n",
    "from sympy.utilities.lambdify import lambdify\n",
    "x = Symbol('x')\n",
    "\n",
    "import numpy as np\n",
    "import matplotlib.pyplot as plt\n",
    "%matplotlib inline  \n",
    "\n",
    "func = sin(x)\n",
    "\n",
    "evalfunc = lambdify(x, func, modules=['numpy'])\n",
    "evalfuncdiff = lambdify(x, func.diff(), modules=['numpy'])\n",
    "\n",
    "t = np.linspace(0, 5.5, 100)\n",
    "\n",
    "plt.plot(t, evalfunc(t), 'b', label='sin(x)/x')\n",
    "plt.plot(t, evalfuncdiff(t), 'r', label='sin(x)/x')\n",
    "\n",
    "\n",
    "plt.legend(loc='best')\n",
    "plt.show()"
   ]
  },
  {
   "cell_type": "markdown",
   "metadata": {
    "slideshow": {
     "slide_type": "fragment"
    }
   },
   "source": [
    "### http://live.sympy.org/"
   ]
  },
  {
   "cell_type": "markdown",
   "metadata": {
    "slideshow": {
     "slide_type": "slide"
    }
   },
   "source": [
    "## LaTeX\n",
    "\n",
    "- Useful when writting reports"
   ]
  },
  {
   "cell_type": "code",
   "execution_count": 25,
   "metadata": {
    "collapsed": false,
    "slideshow": {
     "slide_type": "fragment"
    }
   },
   "outputs": [
    {
     "data": {
      "text/latex": [
       "\\begin{align}\n",
       "\\nabla \\times \\vec{\\mathbf{B}} -\\, \\frac1c\\, \\frac{\\partial\\vec{\\mathbf{E}}}{\\partial t} & = \\frac{4\\pi}{c}\\vec{\\mathbf{j}} \\\\\n",
       "\\nabla \\cdot \\vec{\\mathbf{E}} & = 4 \\pi \\rho \\\\\n",
       "\\nabla \\times \\vec{\\mathbf{E}}\\, +\\, \\frac1c\\, \\frac{\\partial\\vec{\\mathbf{B}}}{\\partial t} & = \\vec{\\mathbf{0}} \\\\\n",
       "\\nabla \\cdot \\vec{\\mathbf{B}} & = 0\n",
       "\\end{align}"
      ],
      "text/plain": [
       "<IPython.core.display.Latex object>"
      ]
     },
     "metadata": {},
     "output_type": "display_data"
    }
   ],
   "source": [
    "%%latex\n",
    "\\begin{align}\n",
    "\\nabla \\times \\vec{\\mathbf{B}} -\\, \\frac1c\\, \\frac{\\partial\\vec{\\mathbf{E}}}{\\partial t} & = \\frac{4\\pi}{c}\\vec{\\mathbf{j}} \\\\\n",
    "\\nabla \\cdot \\vec{\\mathbf{E}} & = 4 \\pi \\rho \\\\\n",
    "\\nabla \\times \\vec{\\mathbf{E}}\\, +\\, \\frac1c\\, \\frac{\\partial\\vec{\\mathbf{B}}}{\\partial t} & = \\vec{\\mathbf{0}} \\\\\n",
    "\\nabla \\cdot \\vec{\\mathbf{B}} & = 0\n",
    "\\end{align}"
   ]
  },
  {
   "cell_type": "markdown",
   "metadata": {
    "slideshow": {
     "slide_type": "fragment"
    }
   },
   "source": [
    "## ShareLaTeX or Overleaf\n",
    "## LyX"
   ]
  }
 ],
 "metadata": {
  "celltoolbar": "Slideshow",
  "kernelspec": {
   "display_name": "Python 3",
   "language": "python",
   "name": "python3"
  },
  "language_info": {
   "codemirror_mode": {
    "name": "ipython",
    "version": 3
   },
   "file_extension": ".py",
   "mimetype": "text/x-python",
   "name": "python",
   "nbconvert_exporter": "python",
   "pygments_lexer": "ipython3",
   "version": "3.5.2"
  }
 },
 "nbformat": 4,
 "nbformat_minor": 0
}
