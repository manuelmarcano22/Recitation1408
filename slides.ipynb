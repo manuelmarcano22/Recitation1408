{
 "cells": [
  {
   "cell_type": "code",
   "execution_count": 5,
   "metadata": {
    "collapsed": false,
    "slideshow": {
     "slide_type": "slide"
    }
   },
   "outputs": [
    {
     "data": {
      "text/html": [
       "<script>\n",
       "    var code_show=true; //true -> hide code at first\n",
       "\n",
       "    function code_toggle() {\n",
       "        $('div.prompt').hide(); // always hide prompt\n",
       "\n",
       "        if (code_show){\n",
       "            $('div.input').hide();\n",
       "        } else {\n",
       "            $('div.input').show();\n",
       "        }\n",
       "        code_show = !code_show\n",
       "    }\n",
       "    $( document ).ready(code_toggle);\n",
       "</script>"
      ],
      "text/plain": [
       "<IPython.core.display.HTML object>"
      ]
     },
     "execution_count": 5,
     "metadata": {},
     "output_type": "execute_result"
    }
   ],
   "source": [
    "from IPython.display import HTML\n",
    "HTML('''<script>\n",
    "    var code_show=true; //true -> hide code at first\n",
    "\n",
    "    function code_toggle() {\n",
    "        $('div.prompt').hide(); // always hide prompt\n",
    "\n",
    "        if (code_show){\n",
    "            $('div.input').hide();\n",
    "        } else {\n",
    "            $('div.input').show();\n",
    "        }\n",
    "        code_show = !code_show\n",
    "    }\n",
    "    $( document ).ready(code_toggle);\n",
    "</script>''')"
   ]
  },
  {
   "cell_type": "markdown",
   "metadata": {
    "collapsed": true,
    "slideshow": {
     "slide_type": "slide"
    }
   },
   "source": [
    "# Physics 1408 Recitation\n",
    "\n",
    "## Manuel Pichardo Marcano\n",
    "- manuel.pichardo-marcano@ttu.edu\n",
    "\n",
    "- Office hours: Friday 1-2:30 Room 028"
   ]
  },
  {
   "cell_type": "markdown",
   "metadata": {
    "slideshow": {
     "slide_type": "slide"
    }
   },
   "source": [
    "# Choose your Coordinate System\n",
    "\n",
    "**Easy way** is to choose x along the incline:\n",
    "\n",
    "![Alt](second.png#right)"
   ]
  },
  {
   "cell_type": "markdown",
   "metadata": {
    "slideshow": {
     "slide_type": "subslide"
    }
   },
   "source": [
    "### a)\n",
    "\n",
    "$$ \\sum \\vec F = m \\vec a =  m 0 $$"
   ]
  },
  {
   "cell_type": "markdown",
   "metadata": {
    "slideshow": {
     "slide_type": "fragment"
    }
   },
   "source": [
    "- Decompse gravity along $\\hat b$ and $\\hat c$:\n",
    "\n",
    "$$ -(\\text{gravity along } \\hat b) + \\vec f_k = 0$$\n",
    "\n",
    "$$ - (\\text{gravity along} \\hat c) + \\vec N =0 $$"
   ]
  },
  {
   "cell_type": "markdown",
   "metadata": {
    "slideshow": {
     "slide_type": "fragment"
    }
   },
   "source": [
    "$$- m \\vec g \\sin{\\theta} + \\vec f_k =  0 $$\n",
    "\n",
    "$$ - m \\vec g \\cos{\\theta} + \\vec N =0 $$"
   ]
  },
  {
   "cell_type": "markdown",
   "metadata": {
    "slideshow": {
     "slide_type": "subslide"
    }
   },
   "source": [
    "# Choose your Coordinate System\n",
    "\n",
    "**Hard way** is to choose x and y horizontal:\n",
    "\n",
    "![Alt](first.png#right)"
   ]
  },
  {
   "cell_type": "markdown",
   "metadata": {
    "slideshow": {
     "slide_type": "fragment"
    }
   },
   "source": [
    "- Decompose $\\vec f_k$ and $\\vec N$\n",
    "\n",
    "- Much harder if $a\\neq 0$"
   ]
  },
  {
   "cell_type": "markdown",
   "metadata": {
    "slideshow": {
     "slide_type": "subslide"
    }
   },
   "source": [
    "# Choose your Coordinate System\n",
    "\n",
    "- Two equations, two unknows\n",
    "\n",
    "$$\\sum F_x = f_k \\cos \\theta - N \\sin \\theta =0  $$\n",
    "\n",
    "$$ \\sum F_y =  - m g + f_k \\sin \\theta + N \\cos \\theta = 0  $$\n",
    "\n",
    "- http://web.mit.edu/8.01t/www/materials/InClass/IC_Sol_W02D2-1.pdf"
   ]
  },
  {
   "cell_type": "markdown",
   "metadata": {
    "slideshow": {
     "slide_type": "slide"
    }
   },
   "source": [
    "## Conservative Forces and Mechanical Energy"
   ]
  },
  {
   "cell_type": "markdown",
   "metadata": {
    "slideshow": {
     "slide_type": "fragment"
    }
   },
   "source": [
    "## Conservative Force:"
   ]
  },
  {
   "cell_type": "markdown",
   "metadata": {
    "slideshow": {
     "slide_type": "fragment"
    }
   },
   "source": [
    "- Independent of path\n",
    "\n",
    "- Conserve Mechanical Energy\n",
    "\n",
    "    $$E_{\\text{mech}} = K + U$$\n",
    "\n",
    "- Associated potential"
   ]
  },
  {
   "cell_type": "markdown",
   "metadata": {
    "slideshow": {
     "slide_type": "subslide"
    }
   },
   "source": [
    "## Examples Conservatives:"
   ]
  },
  {
   "cell_type": "markdown",
   "metadata": {
    "slideshow": {
     "slide_type": "fragment"
    }
   },
   "source": [
    "- Gravitational force\n",
    "- Spring force\n",
    "- Electric force"
   ]
  },
  {
   "cell_type": "markdown",
   "metadata": {
    "slideshow": {
     "slide_type": "fragment"
    }
   },
   "source": [
    "## Non-conservatives:\n",
    "\n",
    "- Friccion. It depends on the path\n",
    "- Air drag"
   ]
  },
  {
   "cell_type": "markdown",
   "metadata": {
    "slideshow": {
     "slide_type": "subslide"
    }
   },
   "source": [
    "# Forces and Potential Energy\n",
    "\n",
    "- Conservative forces have a potential energy\n",
    "\n",
    "- What is the relation between force and potential energy?"
   ]
  },
  {
   "cell_type": "markdown",
   "metadata": {
    "slideshow": {
     "slide_type": "fragment"
    }
   },
   "source": [
    "$$ \\vec F = - \\nabla U(\\vec r)$$\n",
    "\n",
    "$$ \\vec F = - \\frac{d U}{dx} $$"
   ]
  },
  {
   "cell_type": "markdown",
   "metadata": {
    "slideshow": {
     "slide_type": "subslide"
    }
   },
   "source": [
    "## Examples Potential\n",
    "\n",
    "- Gravitational Potential:"
   ]
  },
  {
   "cell_type": "markdown",
   "metadata": {
    "slideshow": {
     "slide_type": "fragment"
    }
   },
   "source": [
    "$$ U(y) = m g y$$\n",
    "\n",
    "- Force?\n",
    "\n",
    "\n",
    "$$ F_{\\text{gravity}} =  - \\frac{d U(y)}{dy}$$\n"
   ]
  },
  {
   "cell_type": "markdown",
   "metadata": {
    "slideshow": {
     "slide_type": "fragment"
    }
   },
   "source": [
    "$$ F_{\\text{gravity}} =  - \\frac{d U(y)}{dy} = - m g$$ "
   ]
  },
  {
   "cell_type": "markdown",
   "metadata": {
    "slideshow": {
     "slide_type": "subslide"
    }
   },
   "source": [
    "- Spring Potential:"
   ]
  },
  {
   "cell_type": "markdown",
   "metadata": {
    "slideshow": {
     "slide_type": "fragment"
    }
   },
   "source": [
    "$$ U(x) =  \\frac{1}{2}k x^2$$\n",
    "\n",
    "- Force?\n",
    "\n",
    "$$F_{\\text{spring}}= -  \\frac{d U(x)}{dx}$$"
   ]
  },
  {
   "cell_type": "markdown",
   "metadata": {
    "slideshow": {
     "slide_type": "fragment"
    }
   },
   "source": [
    "$$F_{\\text{spring}}= -  \\frac{d U(x)}{dx} =  - k x  $$"
   ]
  },
  {
   "cell_type": "markdown",
   "metadata": {
    "slideshow": {
     "slide_type": "slide"
    }
   },
   "source": [
    "## Your turn:\n",
    "\n",
    "http://www.glowscript.org/#/user/mmarcano/folder/Public/program/PotentialWell"
   ]
  },
  {
   "cell_type": "markdown",
   "metadata": {
    "slideshow": {
     "slide_type": "subslide"
    }
   },
   "source": [
    "# a)\n",
    "\n",
    "$$F = - \\frac{d U}{dx} = - \\text{ slope} \\approx - \\frac{\\Delta U}{\\Delta x}$$"
   ]
  },
  {
   "cell_type": "markdown",
   "metadata": {
    "slideshow": {
     "slide_type": "subslide"
    }
   },
   "source": [
    "## b)\n",
    "\n",
    "- Calculate the Total Energy:\n",
    "\n",
    "$$E_\\text{mech} = K +U$$\n",
    "\n",
    "$$ E = \\frac{1}{2}m v^2 + U$$"
   ]
  },
  {
   "cell_type": "markdown",
   "metadata": {
    "slideshow": {
     "slide_type": "fragment"
    }
   },
   "source": [
    "- $K > 0$"
   ]
  },
  {
   "cell_type": "markdown",
   "metadata": {
    "slideshow": {
     "slide_type": "fragment"
    }
   },
   "source": [
    "- Trap between the points where $K = 0$, so $ U = E$"
   ]
  },
  {
   "cell_type": "markdown",
   "metadata": {
    "slideshow": {
     "slide_type": "subslide"
    }
   },
   "source": [
    "## c)\n",
    "\n",
    "$$ E_{\\text{mech}} = U + \\frac{1}{2}m v^2 $$\n",
    "\n",
    "- Knowing E, solve for v when $ x = 7$ m\n",
    "\n",
    "\n"
   ]
  },
  {
   "cell_type": "markdown",
   "metadata": {
    "slideshow": {
     "slide_type": "slide"
    }
   },
   "source": [
    "## Questions?"
   ]
  },
  {
   "cell_type": "markdown",
   "metadata": {
    "slideshow": {
     "slide_type": "slide"
    }
   },
   "source": [
    "# Physics 1408 Recitation\n",
    "\n",
    "## Manuel Pichardo Marcano\n",
    "- manuel.pichardo-marcano@ttu.edu\n",
    "- http://web.mit.edu/8.01t/www/materials/InClass/IC_Sol_W02D2-1.pdf\n",
    "- http://www.glowscript.org/#/user/matterandinteractions/folder/matterandinteractions/program/06-potential-energy-well\n",
    "- https://github.com/manuelmarcano22/Recitation1408"
   ]
  }
 ],
 "metadata": {
  "celltoolbar": "Slideshow",
  "kernelspec": {
   "display_name": "Python 3",
   "language": "python",
   "name": "python3"
  },
  "language_info": {
   "codemirror_mode": {
    "name": "ipython",
    "version": 3
   },
   "file_extension": ".py",
   "mimetype": "text/x-python",
   "name": "python",
   "nbconvert_exporter": "python",
   "pygments_lexer": "ipython3",
   "version": "3.5.2"
  }
 },
 "nbformat": 4,
 "nbformat_minor": 0
}
