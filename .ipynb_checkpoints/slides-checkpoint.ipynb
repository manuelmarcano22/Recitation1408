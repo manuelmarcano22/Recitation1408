{
 "cells": [
  {
   "cell_type": "markdown",
   "metadata": {
    "collapsed": true,
    "slideshow": {
     "slide_type": "slide"
    }
   },
   "source": [
    "# Physics 1408 Recitation\n"
   ]
  },
  {
   "cell_type": "markdown",
   "metadata": {
    "slideshow": {
     "slide_type": "fragment"
    }
   },
   "source": [
    "## Manuel Pichardo Marcano"
   ]
  },
  {
   "cell_type": "code",
   "execution_count": 8,
   "metadata": {
    "collapsed": true,
    "slideshow": {
     "slide_type": "skip"
    }
   },
   "outputs": [],
   "source": [
    "class PDF(object):\n",
    "  def __init__(self, pdf, size=(200,200)):\n",
    "    self.pdf = pdf\n",
    "    self.size = size\n",
    "\n",
    "  def _repr_html_(self):\n",
    "    return '<iframe src={0} width={1[0]} height={1[1]}></iframe>'.format(self.pdf, self.size)\n",
    "\n",
    "  def _repr_latex_(self):\n",
    "    return r'\\includegraphics[width=1.0\\textwidth]{{{0}}}'.format(self.pdf)"
   ]
  },
  {
   "cell_type": "code",
   "execution_count": 9,
   "metadata": {
    "collapsed": false,
    "slideshow": {
     "slide_type": "slide"
    }
   },
   "outputs": [
    {
     "data": {
      "text/html": [
       "<iframe src=Rec.pdf width=1000 height=1000></iframe>"
      ],
      "text/latex": [
       "\\includegraphics[width=1.0\\textwidth]{Rec.pdf}"
      ],
      "text/plain": [
       "<__main__.PDF at 0x7f7fa5f8ab70>"
      ]
     },
     "execution_count": 9,
     "metadata": {},
     "output_type": "execute_result"
    }
   ],
   "source": [
    "PDF('Rec.pdf',size=(1000,1000))\n"
   ]
  },
  {
   "cell_type": "markdown",
   "metadata": {
    "slideshow": {
     "slide_type": "slide"
    }
   },
   "source": [
    "# Derivatives\n",
    "\n",
    "## Notation\n",
    "\n",
    " $$f'(t) = \\dot f =  \\frac{df(t)}{dt} \\neq \\frac{\\partial f(t)}{\\partial t} $$\n",
    " \n",
    " ### Evaluation\n",
    " \n",
    " $$\\left . \\frac{df(t)}{dt} \\right |_{t=1} $$"
   ]
  },
  {
   "cell_type": "markdown",
   "metadata": {
    "slideshow": {
     "slide_type": "fragment"
    }
   },
   "source": [
    "$$f''(t) = \\ddot f = \\frac{d^2f(t)}{dt^2} = \\frac{d}{dt}\\left (\\frac{df(x)}{dt} \\right)$$\n",
    " \n"
   ]
  },
  {
   "cell_type": "markdown",
   "metadata": {
    "slideshow": {
     "slide_type": "subslide"
    }
   },
   "source": [
    "## Example and names"
   ]
  },
  {
   "cell_type": "markdown",
   "metadata": {
    "slideshow": {
     "slide_type": "fragment"
    }
   },
   "source": [
    "### Rate of change/ slope of a curve/ change in \n",
    "- velocity\n",
    "- acceleration\n",
    "- jerk \n",
    "- foce"
   ]
  },
  {
   "cell_type": "markdown",
   "metadata": {
    "slideshow": {
     "slide_type": "subslide"
    }
   },
   "source": [
    "# Examples\n",
    "- Derivative of a constant\n",
    "- Derivative of a product\n",
    "- Derivative of a quotient\n",
    "- Derivative of trig functions\n",
    "- Derivatives Exponential\n",
    "- Derivatives composition of a function"
   ]
  },
  {
   "cell_type": "markdown",
   "metadata": {
    "slideshow": {
     "slide_type": "subslide"
    }
   },
   "source": [
    "###  Constant: \n",
    "$$\\frac{dC}{t}=0 \\, \\, | \\, \\, (af)' = af'$$\n",
    "### Sum: \n",
    "$$(f + g)' = f' + g'$$\n",
    "### Product: \n",
    "\\begin{equation}\n",
    "\\frac{d}{dx} (u\\cdot v) = v \\cdot \\frac{du}{dx} + u \\cdot  \\frac{dv}{dx}  \n",
    "\\end{equation}\n",
    "### Quatient: \n",
    "$$\\left(\\frac{f}{g}\\right)' = \\frac{f'g - g'f}{g^2}\\quad$$\n",
    "### Trigonometric functions: \n",
    "$$\\sin'(x) = \\cos(x)$$\n",
    "$$\\cos'(x) = - \\sin(x)$$\n",
    "\n"
   ]
  },
  {
   "cell_type": "markdown",
   "metadata": {
    "slideshow": {
     "slide_type": "subslide"
    }
   },
   "source": [
    "### Logarithm: \n",
    "$$\\ln(x)=\\frac{1}{x}$$\n",
    "### Exponent: \n",
    "$$(e^x)'=e^x $$\n",
    "$$ (a^x)' = a^x \\ln(a) $$\n",
    "$$ \\frac{d}{dx}(log_{10}(x)) = \\frac{1}{x \\ln(10)}$$\n",
    "### Composition: \n",
    "$$\\frac{dy}{dx} = \\frac{dy}{du} \\cdot \\frac{du}{dx}$$"
   ]
  },
  {
   "cell_type": "markdown",
   "metadata": {
    "slideshow": {
     "slide_type": "subslide"
    }
   },
   "source": [
    "# Your turn. Find f'(x)\n",
    "\n",
    "### 1\n",
    "$$ f(x)= sin(x) + e^{cos(x)}$$ \n",
    "### 2\n",
    "$$f(x) =\\sin(\\sqrt{x^2+2})  $$\n"
   ]
  },
  {
   "cell_type": "markdown",
   "metadata": {
    "slideshow": {
     "slide_type": "subslide"
    }
   },
   "source": [
    "Answers:\n",
    "\n",
    "### 1\n",
    "$$ f'(x)= $$ \n",
    "### 2\n",
    "$$f'(x) = $$\n"
   ]
  },
  {
   "cell_type": "markdown",
   "metadata": {
    "slideshow": {
     "slide_type": "slide"
    }
   },
   "source": [
    "# Integration\n",
    "\n",
    "### Indefinite Integral\n",
    "\n",
    "$$\\int \\sin(x) dx $$\n",
    "\n",
    "### Definite Integral\n",
    "$$ \\int_a^b x^2\\;\\mathrm{d}x= \\tfrac{1}{3} x^3 \\Big|_a^b $$"
   ]
  },
  {
   "cell_type": "markdown",
   "metadata": {
    "slideshow": {
     "slide_type": "subslide"
    }
   },
   "source": [
    "# Your Turn\n",
    "\n",
    "### 1\n",
    "\n",
    "### 2\n",
    "\n",
    "### 3"
   ]
  },
  {
   "cell_type": "markdown",
   "metadata": {
    "slideshow": {
     "slide_type": "subslide"
    }
   },
   "source": [
    "# Answers\n",
    "\n",
    "### 1\n",
    "\n",
    "### 2\n",
    "\n",
    "### 3"
   ]
  },
  {
   "cell_type": "markdown",
   "metadata": {
    "slideshow": {
     "slide_type": "slide"
    }
   },
   "source": [
    "# Useful Tools:\n",
    " -  Sympy or any other CAS:\n",
    "  - http://live.sympy.org/\n",
    "  - Maple\n",
    " - Writing Reports:\n",
    "     - LaTeX\n",
    "     - LyX"
   ]
  },
  {
   "cell_type": "code",
   "execution_count": 32,
   "metadata": {
    "collapsed": false,
    "slideshow": {
     "slide_type": "subslide"
    }
   },
   "outputs": [
    {
     "data": {
      "image/png": "[encoded data removed]",
      "text/plain": [
       "<matplotlib.figure.Figure at 0x7f3c54fbac18>"
      ]
     },
     "metadata": {},
     "output_type": "display_data"
    }
   ],
   "source": [
    "from sympy import sin, series, Symbol, integrate\n",
    "from sympy.utilities.lambdify import lambdify\n",
    "x = Symbol('x')\n",
    "\n",
    "import numpy as np\n",
    "import matplotlib.pyplot as plt\n",
    "%matplotlib inline  \n",
    "\n",
    "func = sin(x)\n",
    "func2 = sin(x)**2\n",
    "\n",
    "evalfunc = lambdify(x, func, modules=['numpy'])\n",
    "evalfuncdiff = lambdify(x, func.diff(), modules=['numpy'])\n",
    "evalfuncint = lambdify(x, func2.integrate(), modules=['numpy'])\n",
    "t = np.linspace(0, 5.5, 100)\n",
    "\n",
    "plt.plot(t, evalfunc(t), 'b', label='sin(x)')\n",
    "plt.plot(t, evalfuncdiff(t), 'r', label=r\"sin'(x)\")\n",
    "plt.plot(t, evalfuncint(t), 'p', label=r'$\\int sin(x)^2$')\n",
    "\n",
    "plt.legend(loc='best')\n",
    "plt.show()"
   ]
  },
  {
   "cell_type": "markdown",
   "metadata": {
    "slideshow": {
     "slide_type": "slide"
    }
   },
   "source": [
    "## LaTeX\n",
    "- Useful when writting reports"
   ]
  },
  {
   "cell_type": "code",
   "execution_count": 10,
   "metadata": {
    "collapsed": false,
    "slideshow": {
     "slide_type": "fragment"
    }
   },
   "outputs": [
    {
     "data": {
      "text/latex": [
       "\\begin{align}\n",
       "\\nabla \\times \\vec{\\mathbf{B}} -\\, \\frac1c\\, \\frac{\\partial\\vec{\\mathbf{E}}}{\\partial t} & = \\frac{4\\pi}{c}\\vec{\\mathbf{j}} \\\\\n",
       "\\nabla \\cdot \\vec{\\mathbf{E}} & = 4 \\pi \\rho \\\\\n",
       "\\nabla \\times \\vec{\\mathbf{E}}\\, +\\, \\frac1c\\, \\frac{\\partial\\vec{\\mathbf{B}}}{\\partial t} & = \\vec{\\mathbf{0}} \\\\\n",
       "\\nabla \\cdot \\vec{\\mathbf{B}} & = 0\n",
       "\\end{align}"
      ],
      "text/plain": [
       "<IPython.core.display.Latex object>"
      ]
     },
     "metadata": {},
     "output_type": "display_data"
    }
   ],
   "source": [
    "%%latex\n",
    "\\begin{align}\n",
    "\\nabla \\times \\vec{\\mathbf{B}} -\\, \\frac1c\\, \\frac{\\partial\\vec{\\mathbf{E}}}{\\partial t} & = \\frac{4\\pi}{c}\\vec{\\mathbf{j}} \\\\\n",
    "\\nabla \\cdot \\vec{\\mathbf{E}} & = 4 \\pi \\rho \\\\\n",
    "\\nabla \\times \\vec{\\mathbf{E}}\\, +\\, \\frac1c\\, \\frac{\\partial\\vec{\\mathbf{B}}}{\\partial t} & = \\vec{\\mathbf{0}} \\\\\n",
    "\\nabla \\cdot \\vec{\\mathbf{B}} & = 0\n",
    "\\end{align}"
   ]
  }
 ],
 "metadata": {
  "celltoolbar": "Slideshow",
  "kernelspec": {
   "display_name": "Python 3",
   "language": "python",
   "name": "python3"
  },
  "language_info": {
   "codemirror_mode": {
    "name": "ipython",
    "version": 3
   },
   "file_extension": ".py",
   "mimetype": "text/x-python",
   "name": "python",
   "nbconvert_exporter": "python",
   "pygments_lexer": "ipython3",
   "version": "3.5.2"
  }
 },
 "nbformat": 4,
 "nbformat_minor": 0
}
