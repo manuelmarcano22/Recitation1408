{
 "cells": [
  {
   "cell_type": "code",
   "execution_count": 1,
   "metadata": {
    "collapsed": false,
    "slideshow": {
     "slide_type": "slide"
    }
   },
   "outputs": [
    {
     "data": {
      "text/html": [
       "<script>\n",
       "    var code_show=true; //true -> hide code at first\n",
       "\n",
       "    function code_toggle() {\n",
       "        $('div.prompt').hide(); // always hide prompt\n",
       "\n",
       "        if (code_show){\n",
       "            $('div.input').hide();\n",
       "        } else {\n",
       "            $('div.input').show();\n",
       "        }\n",
       "        code_show = !code_show\n",
       "    }\n",
       "    $( document ).ready(code_toggle);\n",
       "</script>"
      ],
      "text/plain": [
       "<IPython.core.display.HTML object>"
      ]
     },
     "execution_count": 1,
     "metadata": {},
     "output_type": "execute_result"
    }
   ],
   "source": [
    "from IPython.display import HTML\n",
    "HTML('''<script>\n",
    "    var code_show=true; //true -> hide code at first\n",
    "\n",
    "    function code_toggle() {\n",
    "        $('div.prompt').hide(); // always hide prompt\n",
    "\n",
    "        if (code_show){\n",
    "            $('div.input').hide();\n",
    "        } else {\n",
    "            $('div.input').show();\n",
    "        }\n",
    "        code_show = !code_show\n",
    "    }\n",
    "    $( document ).ready(code_toggle);\n",
    "</script>''')"
   ]
  },
  {
   "cell_type": "markdown",
   "metadata": {
    "collapsed": true,
    "slideshow": {
     "slide_type": "slide"
    }
   },
   "source": [
    "# Physics 1408 Recitation\n",
    "\n",
    "## Manuel Pichardo Marcano\n",
    "- manuel.pichardo-marcano@ttu.edu\n",
    "\n",
    "- Office hours: Friday 1-2:30 Room 028"
   ]
  },
  {
   "cell_type": "markdown",
   "metadata": {
    "slideshow": {
     "slide_type": "slide"
    }
   },
   "source": [
    "## Rotational Dynamics"
   ]
  },
  {
   "cell_type": "markdown",
   "metadata": {
    "slideshow": {
     "slide_type": "fragment"
    }
   },
   "source": [
    "### Motion Variables"
   ]
  },
  {
   "cell_type": "markdown",
   "metadata": {
    "slideshow": {
     "slide_type": "fragment"
    }
   },
   "source": [
    "- Postion/Velocity/Acceleration:\n",
    "    - $\\theta \\text{ [rad]} \\,, \\omega \\text{ [rad/s]} \\,, \\alpha \\text{ [rad/}s^2\\text{]} $"
   ]
  },
  {
   "cell_type": "markdown",
   "metadata": {
    "slideshow": {
     "slide_type": "fragment"
    }
   },
   "source": [
    "- Forces:\n",
    "    - $\\tau = r \\times F$ [N m]\n",
    "    - $\\tau = I \\alpha$\n",
    "    - $ \\sum \\tau = dL/dt$"
   ]
  },
  {
   "cell_type": "markdown",
   "metadata": {
    "slideshow": {
     "slide_type": "fragment"
    }
   },
   "source": [
    "- Conservation Laws:\n",
    "    - $L = I \\omega$ [N m s]\n",
    "    - $ K_R = \\frac{1}{2} I \\omega ^2$ [kg $m^2/s^2$  ]"
   ]
  },
  {
   "cell_type": "markdown",
   "metadata": {
    "slideshow": {
     "slide_type": "subslide"
    }
   },
   "source": [
    "## Moment of Inertia"
   ]
  },
  {
   "cell_type": "markdown",
   "metadata": {
    "slideshow": {
     "slide_type": "fragment"
    }
   },
   "source": [
    "- $I = \\sum_{i} m_i r_i ^2$\n",
    "- Depends on axis of rotation"
   ]
  },
  {
   "cell_type": "markdown",
   "metadata": {
    "slideshow": {
     "slide_type": "subslide"
    }
   },
   "source": [
    "## Example:\n",
    "\n",
    "Two cylinders of the same\n",
    "\n",
    "![Alt](cyl.png#right)\n",
    "\n",
    "$$I_z = \\frac{1}{2}MR^2$$\n"
   ]
  },
  {
   "cell_type": "markdown",
   "metadata": {
    "slideshow": {
     "slide_type": "slide"
    }
   },
   "source": [
    "## Conceptual Questions\n",
    "\n",
    "\n",
    "Two cylinders of the **same size** (radius) and **mass** roll down an incline, starting from rest. Cylinder A has most of its mass concentrated at the rim, while B has most of its mass concentrated at the center. Which reaches the bottom first?\n"
   ]
  },
  {
   "cell_type": "markdown",
   "metadata": {
    "slideshow": {
     "slide_type": "subslide"
    }
   },
   "source": [
    "- $I = \\sum_{i} m_i r_i ^2$\n",
    "- $I_A > I_B$ \n",
    "- $v_{B_{cm}} > v_{A_{cm}}$"
   ]
  },
  {
   "cell_type": "markdown",
   "metadata": {
    "slideshow": {
     "slide_type": "subslide"
    }
   },
   "source": [
    "Two cylinders of the **same** size (radius) but **different masses** roll down an incline, starting from rest. Cylinder A has a greater mass. Which reaches the bottom first?"
   ]
  },
  {
   "cell_type": "markdown",
   "metadata": {
    "slideshow": {
     "slide_type": "subslide"
    }
   },
   "source": [
    "- $F_{g} \\propto m $\n",
    "- $F_{friction} \\propto N \\propto m $\n",
    "- $I \\propto m$\n",
    "- $v_{B_{cm}} = v_{A_{cm}}$"
   ]
  },
  {
   "cell_type": "markdown",
   "metadata": {
    "slideshow": {
     "slide_type": "subslide"
    }
   },
   "source": [
    "Two cylinders of the **different size** (radius) but **same masses** roll down an incline, starting from rest. Cylinder A has a greater mass. Which reaches the bottom first?"
   ]
  },
  {
   "cell_type": "markdown",
   "metadata": {
    "slideshow": {
     "slide_type": "subslide"
    }
   },
   "source": [
    "Acceleration of the Center of Mass is indepent of the Radius and Mass\n",
    "\n",
    "- $\\tau = R f = I \\alpha = \\frac{1}{2} m R^2 \\frac{a}{R}$\n",
    "- $m g \\sin{theta} - f = m a_{cm}$\n",
    "- $a = R \\alpha$\n",
    "- $a = \\frac{2}{3} g \\sin{\\theta}$\n",
    "- Is work done by friction on the cylinder?"
   ]
  },
  {
   "cell_type": "markdown",
   "metadata": {
    "slideshow": {
     "slide_type": "subslide"
    }
   },
   "source": [
    "- Is there work done by friction on the cylinder?\n",
    "- Is mechanical energy conserved?\n",
    "\n",
    "Hint: Think if the friction is static or kinetic."
   ]
  },
  {
   "cell_type": "markdown",
   "metadata": {
    "slideshow": {
     "slide_type": "fragment"
    }
   },
   "source": [
    "- $W_{friction} = 0$\n",
    "\n",
    "Frictional force is at the rolling constant point, which is always instantaneously at rest. Friction acts through a zero distance and does not do real work."
   ]
  },
  {
   "cell_type": "markdown",
   "metadata": {
    "slideshow": {
     "slide_type": "subslide"
    }
   },
   "source": [
    " A sphere and cylinder of **different radii** but **same mass** are released from rest from the same height on a hill and allowed to roll without slipping to the bottom of the hill. \n",
    " \n",
    " - A) $K_{sphere} > K_{cylinder}$\n",
    " - B)  $K_{cylinder} > K_{sphere}$\n",
    " - c) $K_{cylinder} = K_{sphere}$"
   ]
  },
  {
   "cell_type": "markdown",
   "metadata": {
    "slideshow": {
     "slide_type": "subslide"
    }
   },
   "source": [
    "- $\\sum K = K_{rot} + K_{translation}$\n",
    "- $I_{sphere} < I_{cylinder}$\n",
    "- $K_{sphere \\, rot} < K_{cylinder \\, rot} $\n",
    "- $K_{sphere \\, translation} > K_{cylinder\\, trans}$\n",
    "- $\\sum K_{sphere} = \\sum K_{cylinder}$\n",
    "- $m g h = \\frac{1}{2} m v^2 + \\frac{1}{2} I \\omega^2 = \\frac{1}{2} I (\\frac{v}{R})^2$"
   ]
  },
  {
   "cell_type": "markdown",
   "metadata": {
    "slideshow": {
     "slide_type": "subslide"
    }
   },
   "source": [
    "Two buckets spin around in a horizontal circle on frictionless bearings. Suddenly, it starts to rain. \n",
    "\n",
    "What happens next? \n",
    "\n",
    "- A) The buckets continue to rotate at constant angular velocity \n",
    "- B) The buckets slow down\n",
    "- C) The buckets speed up because the potential energy of the rain is transformed into kinetic energy\n",
    "\n",
    "![Alt](bucket.png#right)"
   ]
  },
  {
   "cell_type": "markdown",
   "metadata": {
    "slideshow": {
     "slide_type": "fragment"
    }
   },
   "source": [
    "Hint: Think conservation of angular momentum"
   ]
  },
  {
   "cell_type": "markdown",
   "metadata": {
    "slideshow": {
     "slide_type": "subslide"
    }
   },
   "source": [
    "## Rank from largest to smalles\n",
    "\n",
    "![Alt](t.png#right)\n"
   ]
  },
  {
   "cell_type": "markdown",
   "metadata": {
    "slideshow": {
     "slide_type": "fragment"
    }
   },
   "source": [
    "$$ \\tau_e > \\tau_a = \\tau_d > \\tau_b > \\tau c$$"
   ]
  },
  {
   "cell_type": "markdown",
   "metadata": {
    "slideshow": {
     "slide_type": "subslide"
    }
   },
   "source": [
    "## Torque: Solving Strategy\n",
    "\n",
    "- Choose point to analyze\n",
    "- Choose sign convention\n",
    "- Calculate net torque\n",
    "\n"
   ]
  },
  {
   "cell_type": "markdown",
   "metadata": {
    "slideshow": {
     "slide_type": "slide"
    }
   },
   "source": [
    "## Your turn:\n",
    "\n",
    "![Alt](torque.png#right)\n",
    "\n",
    "*Hint: $\\tau = r \\times F$*"
   ]
  },
  {
   "cell_type": "markdown",
   "metadata": {
    "slideshow": {
     "slide_type": "slide"
    }
   },
   "source": [
    "## Questions?"
   ]
  },
  {
   "cell_type": "markdown",
   "metadata": {
    "slideshow": {
     "slide_type": "slide"
    }
   },
   "source": [
    "# Physics 1408 Recitation\n",
    "\n",
    "## Manuel Pichardo Marcano\n",
    "- manuel.pichardo-marcano@ttu.edu\n",
    "- https://github.com/manuelmarcano22/Recitation1408"
   ]
  }
 ],
 "metadata": {
  "celltoolbar": "Slideshow",
  "kernelspec": {
   "display_name": "Python 3",
   "language": "python",
   "name": "python3"
  },
  "language_info": {
   "codemirror_mode": {
    "name": "ipython",
    "version": 3
   },
   "file_extension": ".py",
   "mimetype": "text/x-python",
   "name": "python",
   "nbconvert_exporter": "python",
   "pygments_lexer": "ipython3",
   "version": "3.5.2"
  }
 },
 "nbformat": 4,
 "nbformat_minor": 0
}
